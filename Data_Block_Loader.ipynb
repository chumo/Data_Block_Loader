{
 "metadata": {
  "name": "",
  "signature": "sha256:2084fd7ece73bdf1350ae0626e0207034910af6f9a5e92d283f5250fe020662c"
 },
 "nbformat": 3,
 "nbformat_minor": 0,
 "worksheets": [
  {
   "cells": [
    {
     "cell_type": "markdown",
     "metadata": {},
     "source": [
      "This is a simple function to load from a text file a particular block of data that is headed with some identification text."
     ]
    },
    {
     "cell_type": "markdown",
     "metadata": {},
     "source": [
      "# The function"
     ]
    },
    {
     "cell_type": "markdown",
     "metadata": {},
     "source": [
      "Given a text file with blocks of data (each block headed with some title or comment), the function **Data_Block_Loader()** (see below) loads the data block from the file and return a list of data columns (tuples). It has been tested in Python 2.7.6 and in Python 3.4.1, and only makes use of the standard library (no use of Numpy or Scipy).\n",
      "\n",
      "For very large data sets, a Numpy implementation would be desirable to avoid computing costs at loops. For normal data sets, this function should be more than enough."
     ]
    },
    {
     "cell_type": "code",
     "collapsed": false,
     "input": [
      "def Data_Block_Loader(fname,keytext,instance=1,skip=0):\n",
      "    '''Loads a block of data from a file and returns a list of tuples,\n",
      "    with each tuple corresponding to one column of the data block.\n",
      "    \n",
      "    Parameters\n",
      "    ----------\n",
      "    fname : a string representing the filename \n",
      "            (including a full path if the file is not in the working directory).\n",
      "\n",
      "    keytext : any identification text at the head of the data block that is to be loaded.\n",
      "    \n",
      "    instance : (optional) If keytext appears in more than one data block header, \n",
      "                load the block in the position indicated by instance.\n",
      "\n",
      "    skip : (optional) The number of lines to skip just after the header of the data block\n",
      "            before starting loading data.    \n",
      "    '''\n",
      "    \n",
      "    #- Read the list of file lines.\n",
      "    f = open(fname)\n",
      "    lines = f.readlines()\n",
      "    f.close()\n",
      "\n",
      "    #- Eliminate newline and return characters, if any.    \n",
      "    numlines = len(lines)\n",
      "    lines = [lines[i].replace('\\n','').replace('\\r','') for i in range(numlines)]\n",
      "    \n",
      "    #- Loop until keytext is found, and load data line by line as long as the line text is not empty and can be casted to float.\n",
      "    rows = []\n",
      "    inst = 1\n",
      "    \n",
      "    for i in range(numlines):\n",
      "        if keytext in lines[i] and inst == instance:\n",
      "            for j in range(i+1+skip,numlines):\n",
      "                try:\n",
      "                    #- Split the line text. Replace commas (if any) because split() won't interpret them as separators.\n",
      "                    splitted_list = lines[j].replace(',',' ').split() \n",
      "                    if len(splitted_list) == 0:\n",
      "                        raise ValueError\n",
      "                    rowdata = [float(splitted_list[i]) for i in range(len(splitted_list))]\n",
      "                    rows.append(rowdata)\n",
      "                except ValueError: #- The data block has finished because the line text cannot be casted to float.\n",
      "                    break\n",
      "            break\n",
      "        elif keytext in lines[i]:\n",
      "            inst += 1\n",
      "    \n",
      "    #- Transpose the data so that every tuple is a column of the data block.\n",
      "    block = list(zip(*rows)) #The function list() was added to make it Python 3 compatible.\n",
      "    \n",
      "    #- Inform and return.\n",
      "    if len(block) > 0:\n",
      "        print('{0} columns were loaded, each with {1} rows.'.format(len(block),len(block[0])))\n",
      "        return block\n",
      "    else:\n",
      "        print('The block was not found or is empty.')\n",
      "        return None"
     ],
     "language": "python",
     "metadata": {},
     "outputs": [],
     "prompt_number": 1
    },
    {
     "cell_type": "markdown",
     "metadata": {},
     "source": [
      "# Example"
     ]
    },
    {
     "cell_type": "markdown",
     "metadata": {},
     "source": [
      "Consider a data file called **MyData.txt**. The data has the following contents:\n",
      "\n",
      "```\n",
      "Results of the simulation blah blah\n",
      "\n",
      "    Potentials generated with A\n",
      "    2.346   3.624   6.346   3.645\n",
      "    8.135   7.234   5.245   1.324\n",
      "    7.123   2.234   9.134   2.234\n",
      "    \n",
      "    Potentials generated with B\n",
      "    and considering such and such\n",
      "    6.234   3.243   6.234   2.345\n",
      "    5.234   6.234   2.345   6.345\n",
      "    9.123   4.134   6.134   3.123\n",
      "```"
     ]
    },
    {
     "cell_type": "markdown",
     "metadata": {},
     "source": [
      "### Load the data\n",
      "\n",
      "Let's load the first block into a variable called `myblock`:"
     ]
    },
    {
     "cell_type": "code",
     "collapsed": false,
     "input": [
      "myblock = Data_Block_Loader('MyData.txt','Potentials generated with A')"
     ],
     "language": "python",
     "metadata": {},
     "outputs": [
      {
       "output_type": "stream",
       "stream": "stdout",
       "text": [
        "4 columns were loaded, each with 3 rows.\n"
       ]
      }
     ],
     "prompt_number": 2
    },
    {
     "cell_type": "markdown",
     "metadata": {},
     "source": [
      "`myblock` is now a list of tuples (each representing a column). Let's see the contents of the second column:"
     ]
    },
    {
     "cell_type": "code",
     "collapsed": false,
     "input": [
      "myblock[1]"
     ],
     "language": "python",
     "metadata": {},
     "outputs": [
      {
       "metadata": {},
       "output_type": "pyout",
       "prompt_number": 3,
       "text": [
        "(3.624, 7.234, 2.234)"
       ]
      }
     ],
     "prompt_number": 3
    },
    {
     "cell_type": "markdown",
     "metadata": {},
     "source": [
      "The same result would be obtained if the parameter `keytext` is set to `'with A'`"
     ]
    },
    {
     "cell_type": "code",
     "collapsed": false,
     "input": [
      "myblock = Data_Block_Loader('MyData.txt','with A')"
     ],
     "language": "python",
     "metadata": {},
     "outputs": [
      {
       "output_type": "stream",
       "stream": "stdout",
       "text": [
        "4 columns were loaded, each with 3 rows.\n"
       ]
      }
     ],
     "prompt_number": 4
    },
    {
     "cell_type": "markdown",
     "metadata": {},
     "source": [
      "To load the second block using a keytext that is present also in the first block (like for example `'Potentials'`), we can use the parameter `instance` and set it to 2:"
     ]
    },
    {
     "cell_type": "code",
     "collapsed": false,
     "input": [
      "myblock = Data_Block_Loader('MyData.txt','Potentials',instance=2)"
     ],
     "language": "python",
     "metadata": {},
     "outputs": [
      {
       "output_type": "stream",
       "stream": "stdout",
       "text": [
        "The block was not found or is empty.\n"
       ]
      }
     ],
     "prompt_number": 5
    },
    {
     "cell_type": "markdown",
     "metadata": {},
     "source": [
      "In this case, the block was not found because there is an extra text line between the line containing the keytext `'Potentials`' and the data itself. In these cases, we can use the `skip` parameter: "
     ]
    },
    {
     "cell_type": "code",
     "collapsed": false,
     "input": [
      "myblock = Data_Block_Loader('MyData.txt','Potentials',instance=2,skip=1)"
     ],
     "language": "python",
     "metadata": {},
     "outputs": [
      {
       "output_type": "stream",
       "stream": "stdout",
       "text": [
        "4 columns were loaded, each with 3 rows.\n"
       ]
      }
     ],
     "prompt_number": 6
    },
    {
     "cell_type": "markdown",
     "metadata": {},
     "source": [
      "### Display the data"
     ]
    },
    {
     "cell_type": "markdown",
     "metadata": {},
     "source": [
      "We use the basic `plot` function from `matplotlib.pyplot` to display, for example, column 0 vs. column 3:"
     ]
    },
    {
     "cell_type": "code",
     "collapsed": false,
     "input": [
      "%matplotlib inline\n",
      "import matplotlib.pyplot as plt\n",
      "plt.plot(myblock[3],myblock[0],'bo',ms=10)\n",
      "plt.show()"
     ],
     "language": "python",
     "metadata": {},
     "outputs": [
      {
       "metadata": {},
       "output_type": "display_data",
       "png": "[encoded data removed]",
       "text": [
        "<matplotlib.figure.Figure at 0x10247b450>"
       ]
      }
     ],
     "prompt_number": 7
    },
    {
     "cell_type": "code",
     "collapsed": false,
     "input": [],
     "language": "python",
     "metadata": {},
     "outputs": [],
     "prompt_number": 7
    }
   ],
   "metadata": {}
  }
 ]
}